{
 "cells": [
  {
   "cell_type": "code",
   "execution_count": 1,
   "metadata": {
    "collapsed": false
   },
   "outputs": [
    {
     "name": "stderr",
     "output_type": "stream",
     "text": [
      "/usr/local/lib/python2.7/site-packages/IPython/config.py:13: ShimWarning: The `IPython.config` package has been deprecated. You should import from traitlets.config instead.\n",
      "  \"You should import from traitlets.config instead.\", ShimWarning)\n",
      "/usr/local/lib/python2.7/site-packages/IPython/utils/traitlets.py:5: UserWarning: IPython.utils.traitlets has moved to a top-level traitlets package.\n",
      "  warn(\"IPython.utils.traitlets has moved to a top-level traitlets package.\")\n"
     ]
    }
   ],
   "source": [
    "%load_ext sql\n",
    "%matplotlib inline"
   ]
  },
  {
   "cell_type": "code",
   "execution_count": 2,
   "metadata": {
    "collapsed": false
   },
   "outputs": [
    {
     "data": {
      "text/plain": [
       "u'Connected: hokamura@adventar_dev'"
      ]
     },
     "execution_count": 2,
     "metadata": {},
     "output_type": "execute_result"
    }
   ],
   "source": [
    "%sql postgresql://hokamura@localhost/adventar_dev"
   ]
  },
  {
   "cell_type": "code",
   "execution_count": 3,
   "metadata": {
    "collapsed": false
   },
   "outputs": [
    {
     "name": "stdout",
     "output_type": "stream",
     "text": [
      "25 rows affected.\n"
     ]
    },
    {
     "data": {
      "text/html": [
       "<table>\n",
       "    <tr>\n",
       "        <th>day</th>\n",
       "        <th>empty_url_rate</th>\n",
       "    </tr>\n",
       "    <tr>\n",
       "        <td>1.0</td>\n",
       "        <td>7.20</td>\n",
       "    </tr>\n",
       "    <tr>\n",
       "        <td>2.0</td>\n",
       "        <td>5.29</td>\n",
       "    </tr>\n",
       "    <tr>\n",
       "        <td>3.0</td>\n",
       "        <td>8.89</td>\n",
       "    </tr>\n",
       "    <tr>\n",
       "        <td>4.0</td>\n",
       "        <td>6.42</td>\n",
       "    </tr>\n",
       "    <tr>\n",
       "        <td>5.0</td>\n",
       "        <td>6.05</td>\n",
       "    </tr>\n",
       "    <tr>\n",
       "        <td>6.0</td>\n",
       "        <td>5.56</td>\n",
       "    </tr>\n",
       "    <tr>\n",
       "        <td>7.0</td>\n",
       "        <td>7.44</td>\n",
       "    </tr>\n",
       "    <tr>\n",
       "        <td>8.0</td>\n",
       "        <td>6.31</td>\n",
       "    </tr>\n",
       "    <tr>\n",
       "        <td>9.0</td>\n",
       "        <td>6.22</td>\n",
       "    </tr>\n",
       "    <tr>\n",
       "        <td>10.0</td>\n",
       "        <td>8.29</td>\n",
       "    </tr>\n",
       "    <tr>\n",
       "        <td>11.0</td>\n",
       "        <td>15.07</td>\n",
       "    </tr>\n",
       "    <tr>\n",
       "        <td>12.0</td>\n",
       "        <td>10.89</td>\n",
       "    </tr>\n",
       "    <tr>\n",
       "        <td>13.0</td>\n",
       "        <td>13.37</td>\n",
       "    </tr>\n",
       "    <tr>\n",
       "        <td>14.0</td>\n",
       "        <td>10.14</td>\n",
       "    </tr>\n",
       "    <tr>\n",
       "        <td>15.0</td>\n",
       "        <td>14.15</td>\n",
       "    </tr>\n",
       "    <tr>\n",
       "        <td>16.0</td>\n",
       "        <td>10.55</td>\n",
       "    </tr>\n",
       "    <tr>\n",
       "        <td>17.0</td>\n",
       "        <td>15.34</td>\n",
       "    </tr>\n",
       "    <tr>\n",
       "        <td>18.0</td>\n",
       "        <td>12.12</td>\n",
       "    </tr>\n",
       "    <tr>\n",
       "        <td>19.0</td>\n",
       "        <td>12.06</td>\n",
       "    </tr>\n",
       "    <tr>\n",
       "        <td>20.0</td>\n",
       "        <td>18.14</td>\n",
       "    </tr>\n",
       "    <tr>\n",
       "        <td>21.0</td>\n",
       "        <td>12.89</td>\n",
       "    </tr>\n",
       "    <tr>\n",
       "        <td>22.0</td>\n",
       "        <td>16.16</td>\n",
       "    </tr>\n",
       "    <tr>\n",
       "        <td>23.0</td>\n",
       "        <td>17.86</td>\n",
       "    </tr>\n",
       "    <tr>\n",
       "        <td>24.0</td>\n",
       "        <td>17.09</td>\n",
       "    </tr>\n",
       "    <tr>\n",
       "        <td>25.0</td>\n",
       "        <td>22.43</td>\n",
       "    </tr>\n",
       "</table>"
      ],
      "text/plain": [
       "[(1.0, Decimal('7.20')),\n",
       " (2.0, Decimal('5.29')),\n",
       " (3.0, Decimal('8.89')),\n",
       " (4.0, Decimal('6.42')),\n",
       " (5.0, Decimal('6.05')),\n",
       " (6.0, Decimal('5.56')),\n",
       " (7.0, Decimal('7.44')),\n",
       " (8.0, Decimal('6.31')),\n",
       " (9.0, Decimal('6.22')),\n",
       " (10.0, Decimal('8.29')),\n",
       " (11.0, Decimal('15.07')),\n",
       " (12.0, Decimal('10.89')),\n",
       " (13.0, Decimal('13.37')),\n",
       " (14.0, Decimal('10.14')),\n",
       " (15.0, Decimal('14.15')),\n",
       " (16.0, Decimal('10.55')),\n",
       " (17.0, Decimal('15.34')),\n",
       " (18.0, Decimal('12.12')),\n",
       " (19.0, Decimal('12.06')),\n",
       " (20.0, Decimal('18.14')),\n",
       " (21.0, Decimal('12.89')),\n",
       " (22.0, Decimal('16.16')),\n",
       " (23.0, Decimal('17.86')),\n",
       " (24.0, Decimal('17.09')),\n",
       " (25.0, Decimal('22.43'))]"
      ]
     },
     "execution_count": 3,
     "metadata": {},
     "output_type": "execute_result"
    }
   ],
   "source": [
    "%%sql\n",
    "select\n",
    "  date_part('day', day) as day,\n",
    "  round(1.0 * empty_url_count / all_entry_count * 100, 2) as empty_url_rate\n",
    "from (\n",
    "  select\n",
    "    day::date,\n",
    "    count(1) as all_entry_count,\n",
    "    count(entries.url = '' or null) as empty_url_count\n",
    "  from\n",
    "    entries\n",
    "    cross join generate_series('2014-12-01', '2014-12-25', INTERVAL '1 day') as day\n",
    "  where\n",
    "    entries.date = day\n",
    "  group by day\n",
    ") as tmp\n",
    "order by day"
   ]
  },
  {
   "cell_type": "code",
   "execution_count": 4,
   "metadata": {
    "collapsed": false
   },
   "outputs": [],
   "source": [
    "df = _.DataFrame()"
   ]
  },
  {
   "cell_type": "code",
   "execution_count": 5,
   "metadata": {
    "collapsed": false,
    "scrolled": false
   },
   "outputs": [
    {
     "data": {
      "text/plain": [
       "<matplotlib.axes._subplots.AxesSubplot at 0x10eb509d0>"
      ]
     },
     "execution_count": 5,
     "metadata": {},
     "output_type": "execute_result"
    },
    {
     "data": {
      "image/png": "[encoded data removed]",
      "text/plain": [
       "<matplotlib.figure.Figure at 0x10eb0e9d0>"
      ]
     },
     "metadata": {},
     "output_type": "display_data"
    }
   ],
   "source": [
    "df.astype(float).plot(x = 'day', title = '2014', figsize = (10, 6))"
   ]
  }
 ],
 "metadata": {
  "kernelspec": {
   "display_name": "Python 2",
   "language": "python",
   "name": "python2"
  },
  "language_info": {
   "codemirror_mode": {
    "name": "ipython",
    "version": 2
   },
   "file_extension": ".py",
   "mimetype": "text/x-python",
   "name": "python",
   "nbconvert_exporter": "python",
   "pygments_lexer": "ipython2",
   "version": "2.7.11"
  }
 },
 "nbformat": 4,
 "nbformat_minor": 0
}
